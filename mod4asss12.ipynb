{
 "cells": [
  {
   "cell_type": "code",
   "execution_count": 3,
   "metadata": {},
   "outputs": [
    {
     "name": "stdout",
     "output_type": "stream",
     "text": [
      "python is a user friendly program\n",
      "Python is a widely used high-level\n",
      "general-purpose\n",
      "interpreted\n",
      "dynamic programming language\n",
      "its design philosophy emphasizes code readability\n",
      "its syntax allows programmers to express concepts in fewer lines of code than possible in\n",
      "languages such as C++ or Java. \n",
      "Python supports multiple programming paradigms\n",
      "including object-oriented\n",
      "imperative and functional programming or procedural styles\n",
      "It features a dynamic type system and automatic memory management and has a large and comprehensive standard library.The best way we learn anything is by practice and exercise questions. We  have started this section for those (beginner to intermediate) who are \n",
      "familiar with Python.\n"
     ]
    }
   ],
   "source": [
    "#write a python program to read an entire text file.\n",
    "def file_read(fname):\n",
    "        txt = open(fname)\n",
    "        print(txt.read())\n",
    "\n",
    "file_read('test.txt')"
   ]
  },
  {
   "cell_type": "code",
   "execution_count": 4,
   "metadata": {},
   "outputs": [
    {
     "name": "stdout",
     "output_type": "stream",
     "text": [
      "python is a user friendly program\n",
      "\n",
      "Python is a widely used high-level\n",
      "\n"
     ]
    }
   ],
   "source": [
    "#.Write a python program to read first n lines of a file\n",
    "def file_read_from_head(fname, nlines):\n",
    "        from itertools import islice\n",
    "        with open(fname) as f:\n",
    "                for line in islice(f, nlines):\n",
    "                        print(line)\n",
    "file_read_from_head('test.txt',2)"
   ]
  },
  {
   "cell_type": "code",
   "execution_count": 16,
   "metadata": {},
   "outputs": [
    {
     "name": "stdout",
     "output_type": "stream",
     "text": [
      "  Python Exercises\n",
      "online course\n",
      "gitam school of technology\n"
     ]
    }
   ],
   "source": [
    "#Write a Python program to append text to a file and display the text.\n",
    "def file_read(fname):\n",
    "        from itertools import islice\n",
    "        with open(fname, \"w\") as myfile:\n",
    "                myfile.write(\"  Python Exercises\\n\")\n",
    "                myfile.write(\"online course\\n\")\n",
    "                myfile.write(\"gitam school of technology\")\n",
    "        txt = open(fname)\n",
    "        print(txt.read())\n",
    "file_read('test.txt')"
   ]
  },
  {
   "cell_type": "code",
   "execution_count": 34,
   "metadata": {},
   "outputs": [
    {
     "name": "stdout",
     "output_type": "stream",
     "text": [
      "enter the file name:test.txt\n",
      "no of last lines to read:2\n",
      "Last 2 lines from file: test.txt\n",
      "online course\n",
      "gitam school of technology"
     ]
    }
   ],
   "source": [
    "#Write a Python program to read last n lines of a file\n",
    "def LastNLines(f,n):\n",
    "    with open(f) as file:\n",
    "        print('Last',n,\"lines from file:\",f)\n",
    "        for line in (file.readlines() [-n:]):\n",
    "            print(line, end='')\n",
    "name=input(\"enter the file name:\" )\n",
    "n= int(input(\"no of last lines to read:\"))\n",
    "try:\n",
    "    LastNLines(name,n)\n",
    "except:\n",
    "    print(\"file error....\")"
   ]
  },
  {
   "cell_type": "code",
   "execution_count": 22,
   "metadata": {},
   "outputs": [
    {
     "name": "stdout",
     "output_type": "stream",
     "text": [
      "['  Python Exercises\\n', 'online course\\n', 'gitam school of technology']\n"
     ]
    }
   ],
   "source": [
    "#Write a Python program to read a file line by line store it into a variable.\n",
    "def file_read(fname):\n",
    "        with open(fname) as f:\n",
    "                #Content_list is the list that contains the read lines.     \n",
    "                content_list = f.readlines()\n",
    "                print(content_list)\n",
    "\n",
    "file_read('test.txt')"
   ]
  },
  {
   "cell_type": "code",
   "execution_count": 23,
   "metadata": {},
   "outputs": [
    {
     "name": "stdout",
     "output_type": "stream",
     "text": [
      "['  Python Exercises\\n', 'online course\\n', 'gitam school of technology']\n"
     ]
    }
   ],
   "source": [
    "#Write a Python program to read a file line by line and store it into a list\n",
    "def file_read(fname):\n",
    "        with open(fname) as f:\n",
    "                #Content_list is the list that contains the read lines.     \n",
    "                content_list = f.readlines()\n",
    "                print(content_list)\n",
    "\n",
    "file_read('test.txt')"
   ]
  },
  {
   "cell_type": "code",
   "execution_count": 24,
   "metadata": {},
   "outputs": [
    {
     "name": "stdout",
     "output_type": "stream",
     "text": [
      "['  Python Exercises\\n', 'online course\\n', 'gitam school of technology']\n"
     ]
    }
   ],
   "source": [
    "#write a python program to read a file line by line and store it into array\n",
    "def file_read(fname):\n",
    "        content_array = []\n",
    "        with open(fname) as f:\n",
    "                #Content_list is the list that contains the read lines.     \n",
    "                for line in f:\n",
    "                        content_array.append(line)\n",
    "                print(content_array)\n",
    "\n",
    "file_read('test.txt')"
   ]
  },
  {
   "cell_type": "code",
   "execution_count": 28,
   "metadata": {},
   "outputs": [
    {
     "name": "stdout",
     "output_type": "stream",
     "text": [
      " the number of lines in the file=\n",
      "3\n"
     ]
    }
   ],
   "source": [
    "#write a python program to count the number of lines in a text file.\n",
    "file = open(\"test.txt\",\"r\") \n",
    "Counter = 0\n",
    "  \n",
    "# Reading from file \n",
    "Content = file.read() \n",
    "CoList = Content.split(\"\\n\") \n",
    "  \n",
    "for i in CoList: \n",
    "    if i: \n",
    "        Counter += 1\n",
    "          \n",
    "print(\" the number of lines in the file=\") \n",
    "print(Counter) "
   ]
  },
  {
   "cell_type": "code",
   "execution_count": 29,
   "metadata": {},
   "outputs": [
    {
     "name": "stdout",
     "output_type": "stream",
     "text": [
      "File size in bytes of a plain file:  0\n"
     ]
    }
   ],
   "source": [
    "#write a python program to get the file size of a plain file.\n",
    "def file_size(fname):\n",
    "        import os\n",
    "        statinfo = os.stat(fname)\n",
    "        return statinfo.st_size\n",
    "\n",
    "print(\"File size in bytes of a plain file: \",file_size(\"test1.txt\"))"
   ]
  },
  {
   "cell_type": "code",
   "execution_count": 1,
   "metadata": {},
   "outputs": [],
   "source": [
    "#write a python program to copy the contents of a file to another file\n",
    "new_file = open(\"test.txt\", \"w\")\n",
    "with open(\"test1.txt\", \"r\") as f:\n",
    "    new_file.write(f.read())\n",
    "\n",
    "new_file.close()"
   ]
  },
  {
   "cell_type": "code",
   "execution_count": 2,
   "metadata": {},
   "outputs": [
    {
     "name": "stdout",
     "output_type": "stream",
     "text": [
      "sum of all elements in the list: 50\n"
     ]
    }
   ],
   "source": [
    "#python program to sum all the items in the list\n",
    "total=0\n",
    "list=[1,5,7,9,8,20]\n",
    "for i in range(0,len(list)):\n",
    "    total=total+list[i]\n",
    "print(\"sum of all elements in the list:\",total)"
   ]
  },
  {
   "cell_type": "code",
   "execution_count": 3,
   "metadata": {},
   "outputs": [
    {
     "name": "stdout",
     "output_type": "stream",
     "text": [
      "24\n"
     ]
    }
   ],
   "source": [
    "#python program to multiply all elements in the list\n",
    "def multiply(mylist):\n",
    "    result=1\n",
    "    for x in mylist:\n",
    "        result=result*x\n",
    "    return result\n",
    "list=[3,2,4]\n",
    "print(multiply(list))"
   ]
  },
  {
   "cell_type": "code",
   "execution_count": 4,
   "metadata": {},
   "outputs": [
    {
     "name": "stdout",
     "output_type": "stream",
     "text": [
      "the smallest number in the list is: 1\n",
      "the largest number in the list is: 100\n"
     ]
    }
   ],
   "source": [
    "#python program to find largest and smallest number in the list.\n",
    "list=[1,78,90,12,100]\n",
    "print(\"the smallest number in the list is:\",min(list))\n",
    "print(\"the largest number in the list is:\",max(list))"
   ]
  },
  {
   "cell_type": "code",
   "execution_count": 5,
   "metadata": {},
   "outputs": [
    {
     "name": "stdout",
     "output_type": "stream",
     "text": [
      "Enter the number of elements in list:5\n",
      "Enter element1:2\n",
      "Enter element2:1\n",
      "Enter element3:4\n",
      "Enter element4:6\n",
      "Enter element5:4\n",
      "Non-duplicate items:\n",
      "[2, 1, 4, 6]\n"
     ]
    }
   ],
   "source": [
    "#python program to remove duplicates from a list\n",
    "a=[]\n",
    "n= int(input(\"Enter the number of elements in list:\"))\n",
    "for x in range(0,n):\n",
    "    element=int(input(\"Enter element\" + str(x+1) + \":\"))\n",
    "    a.append(element)\n",
    "b = set()\n",
    "unique = []\n",
    "for x in a:\n",
    "    if x not in b:\n",
    "        unique.append(x)\n",
    "        b.add(x)\n",
    "print(\"Non-duplicate items:\")\n",
    "print(unique)"
   ]
  },
  {
   "cell_type": "code",
   "execution_count": 6,
   "metadata": {},
   "outputs": [
    {
     "name": "stdout",
     "output_type": "stream",
     "text": [
      "empty list\n"
     ]
    }
   ],
   "source": [
    "#python program to check a list is empty or not\n",
    "def check(list):\n",
    "    if len(list)== 0:\n",
    "        return 0\n",
    "    else:\n",
    "        return 1\n",
    "list=[]\n",
    "if check(list):\n",
    "    print(\"the list is not empty\")\n",
    "else:\n",
    "    print(\"empty list\")"
   ]
  },
  {
   "cell_type": "code",
   "execution_count": 14,
   "metadata": {},
   "outputs": [
    {
     "name": "stdout",
     "output_type": "stream",
     "text": [
      "Original List: [4, 8, 2, 10, 15, 18]\n",
      "After Cloning: [4, 8, 2, 10, 15, 18]\n"
     ]
    }
   ],
   "source": [
    "#python program to clone or copy a list\n",
    "def Cloning(li1): \n",
    "    li_copy = li1[:] \n",
    "    return li_copy \n",
    "  \n",
    "\n",
    "li1 = [4, 8, 2, 10, 15, 18] \n",
    "li2 = Cloning(li1) \n",
    "print(\"Original List:\", li1) \n",
    "print(\"After Cloning:\", li2)"
   ]
  },
  {
   "cell_type": "code",
   "execution_count": 13,
   "metadata": {},
   "outputs": [
    {
     "name": "stdout",
     "output_type": "stream",
     "text": [
      "['Green', 'White', 'Black']\n"
     ]
    }
   ],
   "source": [
    "#Write a Python program to print a specified list after removing the 0th,4th,5th elements\n",
    "l= ['Red', 'Green', 'White', 'Black', 'Pink', 'Yellow']\n",
    "l= [x for (i,x) in enumerate(l) if i not in (0,4,5)]\n",
    "print(l)"
   ]
  },
  {
   "cell_type": "code",
   "execution_count": 10,
   "metadata": {},
   "outputs": [
    {
     "name": "stdout",
     "output_type": "stream",
     "text": [
      "[1, 3, 5, 7, 9]\n"
     ]
    }
   ],
   "source": [
    "#.Write a python program to print the numbers of a specified list after removing even number form it.\n",
    "a = [0,1,2,3,4,5,6,7,8,9,10]\n",
    "a = [x for x in a if x%2!=0]\n",
    "print(a)"
   ]
  },
  {
   "cell_type": "code",
   "execution_count": 15,
   "metadata": {},
   "outputs": [
    {
     "name": "stdout",
     "output_type": "stream",
     "text": [
      "[45, 56, 99, 1, 3, 78]\n"
     ]
    }
   ],
   "source": [
    "#Write a Python program to shuffle and print a specified list.\n",
    "from random import shuffle\n",
    "a = [1,3,45,56,78,99]\n",
    "shuffle(a)\n",
    "print(a)"
   ]
  },
  {
   "cell_type": "code",
   "execution_count": 28,
   "metadata": {},
   "outputs": [
    {
     "ename": "TypeError",
     "evalue": "'list' object is not callable",
     "output_type": "error",
     "traceback": [
      "\u001b[1;31m---------------------------------------------------------------------------\u001b[0m",
      "\u001b[1;31mTypeError\u001b[0m                                 Traceback (most recent call last)",
      "\u001b[1;32m<ipython-input-28-2f276f0541a8>\u001b[0m in \u001b[0;36m<module>\u001b[1;34m\u001b[0m\n\u001b[0;32m      7\u001b[0m \u001b[1;33m\u001b[0m\u001b[0m\n\u001b[0;32m      8\u001b[0m \u001b[1;31m# Run Test\u001b[0m\u001b[1;33m\u001b[0m\u001b[1;33m\u001b[0m\u001b[1;33m\u001b[0m\u001b[0m\n\u001b[1;32m----> 9\u001b[1;33m \u001b[0mprint\u001b[0m\u001b[1;33m(\u001b[0m\u001b[0mlist_diff\u001b[0m\u001b[1;33m(\u001b[0m\u001b[0mlist1\u001b[0m\u001b[1;33m,\u001b[0m \u001b[0mlist2\u001b[0m\u001b[1;33m)\u001b[0m\u001b[1;33m)\u001b[0m\u001b[1;33m\u001b[0m\u001b[1;33m\u001b[0m\u001b[0m\n\u001b[0m",
      "\u001b[1;32m<ipython-input-28-2f276f0541a8>\u001b[0m in \u001b[0;36mlist_diff\u001b[1;34m(list1, list2)\u001b[0m\n\u001b[0;32m      1\u001b[0m \u001b[1;32mdef\u001b[0m \u001b[0mlist_diff\u001b[0m\u001b[1;33m(\u001b[0m\u001b[0mlist1\u001b[0m\u001b[1;33m,\u001b[0m \u001b[0mlist2\u001b[0m\u001b[1;33m)\u001b[0m\u001b[1;33m:\u001b[0m\u001b[1;33m\u001b[0m\u001b[1;33m\u001b[0m\u001b[0m\n\u001b[1;32m----> 2\u001b[1;33m         \u001b[1;32mreturn\u001b[0m \u001b[1;33m(\u001b[0m\u001b[0mlist\u001b[0m\u001b[1;33m(\u001b[0m\u001b[0mset\u001b[0m\u001b[1;33m(\u001b[0m\u001b[0mlist1\u001b[0m\u001b[1;33m)\u001b[0m \u001b[1;33m-\u001b[0m \u001b[0mset\u001b[0m\u001b[1;33m(\u001b[0m\u001b[0mlist2\u001b[0m\u001b[1;33m)\u001b[0m\u001b[1;33m)\u001b[0m\u001b[1;33m)\u001b[0m\u001b[1;33m\u001b[0m\u001b[1;33m\u001b[0m\u001b[0m\n\u001b[0m\u001b[0;32m      3\u001b[0m \u001b[1;33m\u001b[0m\u001b[0m\n\u001b[0;32m      4\u001b[0m \u001b[1;31m# Test Input\u001b[0m\u001b[1;33m\u001b[0m\u001b[1;33m\u001b[0m\u001b[1;33m\u001b[0m\u001b[0m\n\u001b[0;32m      5\u001b[0m \u001b[0mlist1\u001b[0m \u001b[1;33m=\u001b[0m \u001b[1;33m[\u001b[0m\u001b[1;36m11\u001b[0m\u001b[1;33m,\u001b[0m \u001b[1;36m16\u001b[0m\u001b[1;33m,\u001b[0m \u001b[1;36m21\u001b[0m\u001b[1;33m,\u001b[0m \u001b[1;36m26\u001b[0m\u001b[1;33m,\u001b[0m \u001b[1;36m31\u001b[0m\u001b[1;33m,\u001b[0m \u001b[1;36m36\u001b[0m\u001b[1;33m,\u001b[0m \u001b[1;36m41\u001b[0m\u001b[1;33m]\u001b[0m\u001b[1;33m\u001b[0m\u001b[1;33m\u001b[0m\u001b[0m\n",
      "\u001b[1;31mTypeError\u001b[0m: 'list' object is not callable"
     ]
    }
   ],
   "source": [
    "#Write a Python program to get the difference between the two lists.\n",
    "def list_diff(list1, list2): \n",
    "\treturn (list(set(list1) - set(list2))) \n",
    "\n",
    "# Test Input\n",
    "list1 = [11, 16, 21, 26, 31, 36, 41] \n",
    "list2 = [26, 41, 36] \n",
    "\n",
    "# Run Test\n",
    "print(list_diff(list1, list2)) "
   ]
  },
  {
   "cell_type": "code",
   "execution_count": 29,
   "metadata": {},
   "outputs": [
    {
     "name": "stdout",
     "output_type": "stream",
     "text": [
      "1\n",
      "2\n",
      "fizz\n",
      "4\n",
      "buzz\n",
      "fizz\n",
      "7\n",
      "8\n",
      "fizz\n",
      "buzz\n",
      "11\n",
      "fizz\n",
      "13\n",
      "14\n",
      "fizzbuzz\n",
      "16\n",
      "17\n",
      "fizz\n",
      "19\n",
      "buzz\n",
      "fizz\n",
      "22\n",
      "23\n",
      "fizz\n",
      "buzz\n",
      "26\n",
      "fizz\n",
      "28\n",
      "29\n",
      "fizzbuzz\n",
      "31\n",
      "32\n",
      "fizz\n",
      "34\n",
      "buzz\n",
      "fizz\n",
      "37\n",
      "38\n",
      "fizz\n",
      "buzz\n",
      "41\n",
      "fizz\n",
      "43\n",
      "44\n",
      "fizzbuzz\n",
      "46\n",
      "47\n",
      "fizz\n",
      "49\n",
      "buzz\n",
      "fizz\n",
      "52\n",
      "53\n",
      "fizz\n",
      "buzz\n",
      "56\n",
      "fizz\n",
      "58\n",
      "59\n",
      "fizzbuzz\n",
      "61\n",
      "62\n",
      "fizz\n",
      "64\n",
      "buzz\n",
      "fizz\n",
      "67\n",
      "68\n",
      "fizz\n",
      "buzz\n",
      "71\n",
      "fizz\n",
      "73\n",
      "74\n",
      "fizzbuzz\n",
      "76\n",
      "77\n",
      "fizz\n",
      "79\n",
      "buzz\n",
      "fizz\n",
      "82\n",
      "83\n",
      "fizz\n",
      "buzz\n",
      "86\n",
      "fizz\n",
      "88\n",
      "89\n",
      "fizzbuzz\n",
      "91\n",
      "92\n",
      "fizz\n",
      "94\n",
      "buzz\n",
      "fizz\n",
      "97\n",
      "98\n",
      "fizz\n",
      "buzz\n"
     ]
    }
   ],
   "source": [
    "#.Write a program that prints the integers from 1 to 100. But for multiples of three print \"Fizz\" instead of the number, and for the multiples of five print \"Buzz\". For numbers which are multiples of both three and five print \"FizzBuzz\"\n",
    "for i in range(1,101):\n",
    "    if i % 3 == 0 and i % 5 == 0:\n",
    "        print(\"fizzbuzz\")\n",
    "        continue\n",
    "    elif i % 3 == 0:\n",
    "        print(\"fizz\")\n",
    "        continue\n",
    "    elif i % 5 == 0:\n",
    "        print(\"buzz\")\n",
    "        continue\n",
    "    print(i)"
   ]
  },
  {
   "cell_type": "code",
   "execution_count": 30,
   "metadata": {},
   "outputs": [
    {
     "name": "stdout",
     "output_type": "stream",
     "text": [
      "[2, 3, 4, 5, 6, 7, 8, 9]\n"
     ]
    }
   ],
   "source": [
    "#Write a Python program to remove consecutive duplicates from list.\n",
    "from itertools import groupby\n",
    "\n",
    "x = [2,3,4,5,5,5,6,7,7,8,9]\n",
    "print([i[0] for i in groupby(x)])"
   ]
  },
  {
   "cell_type": "code",
   "execution_count": 31,
   "metadata": {},
   "outputs": [
    {
     "name": "stdout",
     "output_type": "stream",
     "text": [
      "the unique values from 1st list is\n",
      "10\n",
      "20\n",
      "30\n",
      "40\n"
     ]
    }
   ],
   "source": [
    "#Write a python program to find unique element from a list.\n",
    "def unique(list1): \n",
    "    uniquelist =[] \n",
    "    for x in list1: \n",
    "        if x not in uniquelist: \n",
    "            uniquelist.append(x) \n",
    "    for x in uniquelist: \n",
    "        print(x)\n",
    "list1 = [10, 20, 10, 30, 40, 40] \n",
    "print(\"the unique values from 1st list is\") \n",
    "unique(list1)"
   ]
  },
  {
   "cell_type": "code",
   "execution_count": 32,
   "metadata": {},
   "outputs": [
    {
     "name": "stdout",
     "output_type": "stream",
     "text": [
      "enter the number:10\n",
      "The number is outside the given range.\n"
     ]
    }
   ],
   "source": [
    "#Write a function that checks whether a number is in a given range (inclusive of high and low)\n",
    "def testrange(n):\n",
    "    if n in range(3,9):\n",
    "        print( \" %s is in the range\"%str(n))\n",
    "    else :\n",
    "        print(\"The number is outside the given range.\")\n",
    "n=int(input(\"enter the number:\"))\n",
    "testrange(n)"
   ]
  },
  {
   "cell_type": "code",
   "execution_count": 33,
   "metadata": {},
   "outputs": [
    {
     "name": "stdout",
     "output_type": "stream",
     "text": [
      "No. of Upper case characters : 4,No. of Lower case characters : 33\n"
     ]
    }
   ],
   "source": [
    "#Write a Python function that accepts a string and calculates the number of upper case letters and lower case letters. Sample String : 'Hello Mr. Rogers, how are you this fine Tuesday?' Expected Output : No. of Upper case characters : 4 No. of Lower case Characters : 33 HINT: Two string methods that might prove useful .isupper() and.islower(\n",
    "def uplow(s):      \n",
    "    u = sum(1 for i in s if i.isupper())\n",
    "    l = sum(1 for i in s if i.islower())\n",
    "    print( \"No. of Upper case characters : %s,No. of Lower case characters : %s\" % (u,l))\n",
    "\n",
    "uplow(\"Hello Mr. Rogers, how are you this fine Tuesday?\")"
   ]
  },
  {
   "cell_type": "code",
   "execution_count": null,
   "metadata": {},
   "outputs": [],
   "source": []
  }
 ],
 "metadata": {
  "kernelspec": {
   "display_name": "Python 3",
   "language": "python",
   "name": "python3"
  },
  "language_info": {
   "codemirror_mode": {
    "name": "ipython",
    "version": 3
   },
   "file_extension": ".py",
   "mimetype": "text/x-python",
   "name": "python",
   "nbconvert_exporter": "python",
   "pygments_lexer": "ipython3",
   "version": "3.7.6"
  }
 },
 "nbformat": 4,
 "nbformat_minor": 4
}
